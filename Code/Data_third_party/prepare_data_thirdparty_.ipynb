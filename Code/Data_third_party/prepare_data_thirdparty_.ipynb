{
  "nbformat": 4,
  "nbformat_minor": 0,
  "metadata": {
    "colab": {
      "provenance": []
    },
    "kernelspec": {
      "name": "python3",
      "display_name": "Python 3"
    },
    "language_info": {
      "name": "python"
    },
    "accelerator": "GPU",
    "gpuClass": "standard"
  },
  "cells": [
    {
      "cell_type": "markdown",
      "source": [
        "# Import librarys and create spark session "
      ],
      "metadata": {
        "id": "zAwzddkNaIBU"
      }
    },
    {
      "cell_type": "code",
      "source": [
        "pip install pyspark"
      ],
      "metadata": {
        "colab": {
          "base_uri": "https://localhost:8080/"
        },
        "id": "0PNhRqpLaylA",
        "outputId": "eb34c0ee-cb09-468d-dfd0-c270d7630e63"
      },
      "execution_count": 1,
      "outputs": [
        {
          "output_type": "stream",
          "name": "stdout",
          "text": [
            "Looking in indexes: https://pypi.org/simple, https://us-python.pkg.dev/colab-wheels/public/simple/\n",
            "Requirement already satisfied: pyspark in /usr/local/lib/python3.8/dist-packages (3.3.2)\n",
            "Requirement already satisfied: py4j==0.10.9.5 in /usr/local/lib/python3.8/dist-packages (from pyspark) (0.10.9.5)\n"
          ]
        }
      ]
    },
    {
      "cell_type": "code",
      "source": [
        "#import modules\n",
        "from pyspark.sql import *\n",
        "from pyspark.sql.functions import col, udf\n",
        "from pyspark.sql.types import IntegerType"
      ],
      "metadata": {
        "id": "-wyH3KDxaHlV"
      },
      "execution_count": 2,
      "outputs": []
    },
    {
      "cell_type": "code",
      "source": [
        "#create Spark session\n",
        "application_name= 'Social Media Analytics'\n",
        "spark = SparkSession.builder \\\n",
        "    .master(\"local\") \\\n",
        "    .appName(application_name) \\\n",
        "    .config(\"spark.some.config.option\", \"some-value\") \\\n",
        "    .getOrCreate()"
      ],
      "metadata": {
        "id": "EN-RmR4maxYC"
      },
      "execution_count": 3,
      "outputs": []
    },
    {
      "cell_type": "code",
      "source": [
        "#read data into spark dataFrame with automatically inferred schema\n",
        "twitter = spark.read.csv('/content/twitter.csv', inferSchema=True, header=True)\n",
        "twitter.show(truncate = False,n=3)\n",
        "print(\"count of data \" , twitter.count())"
      ],
      "metadata": {
        "id": "0h4LvIJ_A-8k",
        "colab": {
          "base_uri": "https://localhost:8080/"
        },
        "outputId": "24646394-f270-4472-d48b-50d8ac34e62d"
      },
      "execution_count": 4,
      "outputs": [
        {
          "output_type": "stream",
          "name": "stdout",
          "text": [
            "+---+-----+--------------------------------------------------------------------------------------------------------------------------+\n",
            "|id |label|tweet                                                                                                                     |\n",
            "+---+-----+--------------------------------------------------------------------------------------------------------------------------+\n",
            "|1  |0    | @user when a father is dysfunctional and is so selfish he drags his kids into his dysfunction.   #run                    |\n",
            "|2  |0    |@user @user thanks for #lyft credit i can't use cause they don't offer wheelchair vans in pdx.    #disapointed #getthanked|\n",
            "|3  |0    |  bihday your majesty                                                                                                     |\n",
            "+---+-----+--------------------------------------------------------------------------------------------------------------------------+\n",
            "only showing top 3 rows\n",
            "\n",
            "count of data  31962\n"
          ]
        }
      ]
    },
    {
      "cell_type": "markdown",
      "source": [
        "# **Prepare the data for analysis**"
      ],
      "metadata": {
        "id": "Z1kI3LgS9YFI"
      }
    },
    {
      "cell_type": "code",
      "source": [
        "twitter =  twitter.select('label' , 'tweet' )\n",
        "#Dropping Rows With Empty Values\n",
        "twitter_new = twitter.dropna()\n",
        "print(\"count of data after dropping null\" ,twitter_new.count()) #There is no null values \n",
        "twitter_new.show(truncate = False,n=3)"
      ],
      "metadata": {
        "colab": {
          "base_uri": "https://localhost:8080/"
        },
        "id": "iHF_BhSeA0TG",
        "outputId": "2dbdffc1-e3e2-4244-dda9-4618d096e185"
      },
      "execution_count": 5,
      "outputs": [
        {
          "output_type": "stream",
          "name": "stdout",
          "text": [
            "count of data after dropping null 31962\n",
            "+-----+--------------------------------------------------------------------------------------------------------------------------+\n",
            "|label|tweet                                                                                                                     |\n",
            "+-----+--------------------------------------------------------------------------------------------------------------------------+\n",
            "|0    | @user when a father is dysfunctional and is so selfish he drags his kids into his dysfunction.   #run                    |\n",
            "|0    |@user @user thanks for #lyft credit i can't use cause they don't offer wheelchair vans in pdx.    #disapointed #getthanked|\n",
            "|0    |  bihday your majesty                                                                                                     |\n",
            "+-----+--------------------------------------------------------------------------------------------------------------------------+\n",
            "only showing top 3 rows\n",
            "\n"
          ]
        }
      ]
    },
    {
      "cell_type": "code",
      "source": [
        "#Get Distinct Rows\n",
        "print(\"count of data after dropping null\" ,twitter_new.count())\n",
        "distinctDF = twitter_new.distinct()\n",
        "print(\"Distinct count: \"+str(distinctDF.count()))\n",
        "#removing duplicates\n",
        "new_tweet =  twitter_new.dropDuplicates()\n",
        "print(\"count of data after removing duplicated rows: \"+str(new_tweet.count()))\n",
        "distinctDF.show(truncate=False, n=3)"
      ],
      "metadata": {
        "colab": {
          "base_uri": "https://localhost:8080/"
        },
        "id": "NxAjZQQl6vHg",
        "outputId": "3fe9bd61-aeb1-4ded-a73b-5211961d70f0"
      },
      "execution_count": 6,
      "outputs": [
        {
          "output_type": "stream",
          "name": "stdout",
          "text": [
            "count of data after dropping null 31962\n",
            "Distinct count: 29528\n",
            "count of data after removing duplicated rows: 29528\n",
            "+-----+---------------------------------------------------------------------------------------------------------------+\n",
            "|label|tweet                                                                                                          |\n",
            "+-----+---------------------------------------------------------------------------------------------------------------+\n",
            "|0    |last day at work tomorrow for me- self employed from monday #scared   #redditchbizhour                         |\n",
            "|0    |2 hours to go until our music video is released! #music   #edinburgh #scotland #band @user #musicvideo #a @user|\n",
            "|0    | @user omg bitch ðððð i knew you was gone do lil kim .. actually look like a music video           |\n",
            "+-----+---------------------------------------------------------------------------------------------------------------+\n",
            "only showing top 3 rows\n",
            "\n"
          ]
        }
      ]
    },
    {
      "cell_type": "code",
      "source": [
        "#Preprocessing\n",
        "new_tweet.groupBy(\"tweet\").count().orderBy(col(\"count\").desc()).show()"
      ],
      "metadata": {
        "colab": {
          "base_uri": "https://localhost:8080/"
        },
        "id": "h9NkKl3U9phm",
        "outputId": "e247b8f5-b930-43fb-fdbd-a0a758c82e8b"
      },
      "execution_count": 7,
      "outputs": [
        {
          "output_type": "stream",
          "name": "stdout",
          "text": [
            "+--------------------+-----+\n",
            "|               tweet|count|\n",
            "+--------------------+-----+\n",
            "|#tgif   #ff to my...|    1|\n",
            "|bus riding to not...|    1|\n",
            "|i wish this was m...|    1|\n",
            "|sad or dukhi shai...|    1|\n",
            "|this week new me ...|    1|\n",
            "| @user she is my ...|    1|\n",
            "| @user   my #mom ...|    1|\n",
            "| @user as forecas...|    1|\n",
            "|lack of access sp...|    1|\n",
            "|just finished s4 ...|    1|\n",
            "|here you have it ...|    1|\n",
            "|stage set for tom...|    1|\n",
            "|good morning #ins...|    1|\n",
            "|@user #god should...|    1|\n",
            "|  #fathers day fr...|    1|\n",
            "|if someone gossip...|    1|\n",
            "|@user president j...|    1|\n",
            "|leaving the home ...|    1|\n",
            "|new logo and webs...|    1|\n",
            "|thank you bjp for...|    1|\n",
            "+--------------------+-----+\n",
            "only showing top 20 rows\n",
            "\n"
          ]
        }
      ]
    },
    {
      "cell_type": "code",
      "source": [
        "# Other CSV options\n",
        "new_tweet.write.options(header='True', delimiter=',').csv(\"preprocessing_twitter_\")\n"
      ],
      "metadata": {
        "id": "uLX9t4lGK4H_"
      },
      "execution_count": 8,
      "outputs": []
    },
    {
      "cell_type": "code",
      "source": [],
      "metadata": {
        "id": "uTSwACTcwqpw"
      },
      "execution_count": 8,
      "outputs": []
    }
  ]
}